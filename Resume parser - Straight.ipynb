{
  "cells": [
    {
      "cell_type": "markdown",
      "metadata": {
        "id": "view-in-github",
        "colab_type": "text"
      },
      "source": [
        "<a href=\"https://colab.research.google.com/github/prachi872/Prediction-model/blob/main/Resume%20parser%20-%20Straight.ipynb\" target=\"_parent\"><img src=\"https://colab.research.google.com/assets/colab-badge.svg\" alt=\"Open In Colab\"/></a>"
      ]
    },
    {
      "cell_type": "markdown",
      "id": "1155b4a4",
      "metadata": {
        "id": "1155b4a4"
      },
      "source": [
        "# Introduction:\n",
        "Resume parsing is a valuable tool used in various real-life scenarios to simplify and streamline the hiring process. Imagine you're a busy hiring manager or a human resources professional responsible for reviewing countless resumes. It can be quite overwhelming and time-consuming to manually read through each document and extract the relevant information. This is where a resume parser comes in.\n",
        "\n",
        "A resume parser is like a smart assistant that helps automate the initial screening of resumes. It uses advanced algorithms and natural language processing techniques to analyze the content of a resume and extract key details such as contact information, education history, work experience, skills, and more. This information is then organized into a structured format, making it easier for recruiters to evaluate candidates efficiently.\n",
        "\n",
        "With a resume parser, you can quickly scan through a large pool of resumes and identify the most suitable candidates based on specific criteria. It allows you to search for particular skills, experience levels, educational backgrounds, or any other qualifications you require for the job. The parser also eliminates the possibility of human error and ensures consistent and accurate data extraction.\n",
        "\n",
        "Furthermore, resume parsing can be integrated with applicant tracking systems (ATS) or other recruitment software. This integration enables seamless data transfer and eliminates the need for manual data entry, saving a significant amount of time and reducing administrative burdens. The parsed data can be easily sorted, filtered, and compared, enabling recruiters to shortlist candidates efficiently and make informed decisions.\n",
        "\n",
        "In summary, resume parsing technology acts as a valuable assistant for hiring professionals, making the resume screening process more efficient, accurate, and manageable. It simplifies the initial stages of recruitment, allowing recruiters to focus their time and energy on evaluating the most promising candidates and conducting more meaningful interactions during interviews and assessments."
      ]
    },
    {
      "cell_type": "markdown",
      "source": [
        "from google.colab import drive\n",
        "drive.mount('/content/drive')\n"
      ],
      "metadata": {
        "id": "Gjla_mOPkRNa"
      },
      "id": "Gjla_mOPkRNa"
    },
    {
      "cell_type": "code",
      "source": [
        "import pdfminer\n",
        "from pdfminer.high_level import extract_text"
      ],
      "metadata": {
        "id": "-B6dIstukSQ1"
      },
      "id": "-B6dIstukSQ1",
      "execution_count": 1,
      "outputs": []
    },
    {
      "cell_type": "code",
      "source": [
        "pip install pdfminer.six"
      ],
      "metadata": {
        "id": "TCr8LAU1mn7Z",
        "outputId": "941a9edf-a74e-42f4-9faa-6bf30d663c9d",
        "colab": {
          "base_uri": "https://localhost:8080/"
        }
      },
      "id": "TCr8LAU1mn7Z",
      "execution_count": 2,
      "outputs": [
        {
          "output_type": "stream",
          "name": "stdout",
          "text": [
            "Requirement already satisfied: pdfminer.six in /usr/local/lib/python3.10/dist-packages (20240706)\n",
            "Requirement already satisfied: charset-normalizer>=2.0.0 in /usr/local/lib/python3.10/dist-packages (from pdfminer.six) (3.4.0)\n",
            "Requirement already satisfied: cryptography>=36.0.0 in /usr/local/lib/python3.10/dist-packages (from pdfminer.six) (43.0.3)\n",
            "Requirement already satisfied: cffi>=1.12 in /usr/local/lib/python3.10/dist-packages (from cryptography>=36.0.0->pdfminer.six) (1.17.1)\n",
            "Requirement already satisfied: pycparser in /usr/local/lib/python3.10/dist-packages (from cffi>=1.12->cryptography>=36.0.0->pdfminer.six) (2.22)\n"
          ]
        }
      ]
    },
    {
      "cell_type": "code",
      "execution_count": 3,
      "id": "f67d15f8",
      "metadata": {
        "scrolled": true,
        "id": "f67d15f8",
        "outputId": "e8aaec0a-74c4-4b02-d3ba-2cd2a1198674",
        "colab": {
          "base_uri": "https://localhost:8080/"
        }
      },
      "outputs": [
        {
          "output_type": "stream",
          "name": "stdout",
          "text": [
            "Gaurav Bhand  Marketing Executive\n",
            "\n",
            "gauravbhand6@gmail.com\n",
            "\n",
            "7566161199\n",
            "\n",
            "Indore, India\n",
            "\n",
            "linkedin.com/in/gauravbhand16\n",
            "\n",
            "Profile\n",
            "\n",
            "Marketing and Branding Executive skilled in creating and implementing digital strategies, increasing brand \n",
            "awareness and developing customer-centric communications initiatives. Expert in strategising company growth and \n",
            "monitoring new business technologies and markets closely.\n",
            "\n",
            "Professional Experience\n",
            "\n",
            "2024/06 – 2024/08\n",
            "Indore, India\n",
            "\n",
            "Brand Executive\n",
            "Vodafone Idea\n",
            "\n",
            "•Managed stakeholder relationships and event resources.\n",
            "•Oversee production of marketing collaterals and merchandising.\n",
            "•Negotiated vendor rates and handle procurement.\n",
            "•Coordinated BTL activities and online campaigns.\n",
            "•Achieved targeted responses through effective communication.\n",
            "•Collaborated with sales for collateral replenishment and claim processing.\n",
            "\n",
            "2023/12 – 2024/05\n",
            "Chandigarh, India\n",
            "\n",
            "Marketing Executive\n",
            "Young Urban Project\n",
            "\n",
            "•Maintained and improved brand strategies with data analysis.\n",
            "•Implemented email marketing campaigns and refresh content.\n",
            "•Monitored and optimized campaigns, managing PPC to boost CTR and conversions.\n",
            "•Developed innovative programs and products for diverse marketing initiatives.\n",
            "•Created and scheduled social media content to support marketing goals.\n",
            "\n",
            "2022/12 – 2023/11\n",
            "Indore\n",
            "\n",
            "Executive - Marketing Operations\n",
            "Vyapar Badhao\n",
            "\n",
            "•Developed demand generation strategies, incorporating targeted social media \n",
            "campaigns.\n",
            "•Collaborated on marketing and social media strategies with senior stakeholders.\n",
            "•Managed projects aligning with business goals and social media initiatives.\n",
            "•Led content creation and multi-channel campaigns, with a focus on social media.\n",
            "•Analyzed and optimized social media performance.\n",
            "•Coordinated with cross-functional teams to execute social media strategies effectively.\n",
            "\n",
            "Education\n",
            "\n",
            "2022/01 – 2023/01\n",
            "Glasgow, Scotland\n",
            "\n",
            "MSc Marketing\n",
            "University of Strathclyde\n",
            "\n",
            "2018/07 – 2021/07\n",
            "Indore, India\n",
            "\n",
            "Bachelor of Computer Application\n",
            "Devi Ahilya University\n",
            "\n",
            "Skills\n",
            "\n",
            "Branding\n",
            "\n",
            "Customer focused\n",
            "\n",
            "Multi-Channel Marketing\n",
            "\n",
            "Paid Ads (Meta, Google)\n",
            "\n",
            "Relationship Building\n",
            "\n",
            "Collaboration and Communication\n",
            "\n",
            "Project Management\n",
            "\n",
            "Google Analytics\n",
            "\n",
            "\f\n"
          ]
        }
      ],
      "source": [
        "from pdfminer.high_level import extract_text\n",
        "\n",
        "def extract_text_from_pdf(pdf_path):\n",
        "    return extract_text(pdf_path)\n",
        "\n",
        "if __name__ == '__main__':\n",
        "    print(extract_text_from_pdf(r\"/Gaurav-Bhand-Resume-.pdf\"))"
      ]
    },
    {
      "cell_type": "markdown",
      "id": "73ff19bb",
      "metadata": {
        "id": "73ff19bb"
      },
      "source": [
        "# Extracting Name from Resume:\n",
        "\n",
        "The code snippet demonstrates a function that extracts text from a PDF file using pdfminer library. It then utilizes a regular expression pattern to extract a potential name from the extracted text. If a name is found, it is printed; otherwise, a \"Name not found\" message is displayed. This code can be used as a starting point for resume parsing tasks to extract names from resumes."
      ]
    },
    {
      "cell_type": "code",
      "execution_count": 5,
      "id": "82355882",
      "metadata": {
        "id": "82355882",
        "outputId": "14dbb225-4ffa-40de-dc8b-2bdb39fc54d8",
        "colab": {
          "base_uri": "https://localhost:8080/"
        }
      },
      "outputs": [
        {
          "output_type": "stream",
          "name": "stdout",
          "text": [
            "Name: Gaurav Bhand\n"
          ]
        }
      ],
      "source": [
        "import pdfminer\n",
        "import re\n",
        "\n",
        "def extract_text_from_pdf(pdf_path):\n",
        "    return extract_text(pdf_path)\n",
        "\n",
        "def extract_name_from_resume(text):\n",
        "    name = None\n",
        "\n",
        "    # Use regex pattern to find a potential name\n",
        "    pattern = r\"(\\b[A-Z][a-z]+\\b)\\s(\\b[A-Z][a-z]+\\b)\"\n",
        "    match = re.search(pattern, text)\n",
        "    if match:\n",
        "        name = match.group()\n",
        "\n",
        "    return name\n",
        "\n",
        "if __name__ == '__main__':\n",
        "    text = extract_text_from_pdf(r\"/Gaurav-Bhand-Resume-.pdf\")\n",
        "    name = extract_name_from_resume(text)\n",
        "\n",
        "    if name:\n",
        "        print(\"Name:\", name)\n",
        "    else:\n",
        "        print(\"Name not found\")\n"
      ]
    },
    {
      "cell_type": "code",
      "source": [],
      "metadata": {
        "id": "hm20pOBxlbYF"
      },
      "id": "hm20pOBxlbYF",
      "execution_count": null,
      "outputs": []
    },
    {
      "cell_type": "markdown",
      "id": "90c97198",
      "metadata": {
        "id": "90c97198"
      },
      "source": [
        "# Extract Contact Number:\n",
        "\n",
        "The provided code snippet defines a function to extract text from a PDF file using pdfminer. It also includes another function to extract a potential contact number from the extracted text using a regular expression pattern. The code then calls these functions to extract the contact number from a specific resume file. If a contact number is found, it is printed; otherwise, a \"Contact Number not found\" message is displayed. This code can be used as a starting point for extracting contact numbers from resumes."
      ]
    },
    {
      "cell_type": "code",
      "execution_count": 7,
      "id": "5a1ea1cd",
      "metadata": {
        "id": "5a1ea1cd",
        "outputId": "80e03e2b-a499-47a3-86af-70755b12c788",
        "colab": {
          "base_uri": "https://localhost:8080/"
        }
      },
      "outputs": [
        {
          "output_type": "stream",
          "name": "stdout",
          "text": [
            "Contact Number: 7566161199\n"
          ]
        }
      ],
      "source": [
        " def extract_text_from_pdf(pdf_path):\n",
        "    return extract_text(pdf_path)\n",
        "\n",
        "def extract_contact_number_from_resume(text):\n",
        "    contact_number = None\n",
        "\n",
        "    # Use regex pattern to find a potential contact number\n",
        "    pattern = r\"\\b(?:\\+?\\d{1,3}[-.\\s]?)?\\(?\\d{3}\\)?[-.\\s]?\\d{3}[-.\\s]?\\d{4}\\b\"\n",
        "    match = re.search(pattern, text)\n",
        "    if match:\n",
        "        contact_number = match.group()\n",
        "\n",
        "    return contact_number\n",
        "\n",
        "if __name__ == '__main__':\n",
        "    text = extract_text_from_pdf(r\"/Gaurav-Bhand-Resume-.pdf\")\n",
        "    contact_number = extract_contact_number_from_resume(text)\n",
        "\n",
        "    if contact_number:\n",
        "        print(\"Contact Number:\", contact_number)\n",
        "    else:\n",
        "        print(\"Contact Number not found\")"
      ]
    },
    {
      "cell_type": "markdown",
      "id": "c3499079",
      "metadata": {
        "id": "c3499079"
      },
      "source": [
        "# Extract Email Id :\n",
        "\n",
        "The provided code snippet defines a function extract_text_from_pdf() to extract text from a PDF file using pdfminer. It also includes another function extract_email_from_resume() to extract a potential email address from the extracted text using a regular expression pattern.\n",
        "\n",
        "The code then calls these functions to extract the email address from a specific resume file. If an email address is found, it is printed as \"Email: [email address]\"; otherwise, a \"Email not found\" message is displayed.\n",
        "\n",
        "This code can be used as a starting point for extracting email addresses from resumes."
      ]
    },
    {
      "cell_type": "code",
      "execution_count": 8,
      "id": "92f0f6d6",
      "metadata": {
        "id": "92f0f6d6",
        "outputId": "c1758ad5-5523-484d-c9bf-ebec269c7fb8",
        "colab": {
          "base_uri": "https://localhost:8080/"
        }
      },
      "outputs": [
        {
          "output_type": "stream",
          "name": "stdout",
          "text": [
            "Email: gauravbhand6@gmail.com\n"
          ]
        }
      ],
      "source": [
        "\n",
        "def extract_text_from_pdf(pdf_path):\n",
        "    return extract_text(pdf_path)\n",
        "\n",
        "def extract_email_from_resume(text):\n",
        "    email = None\n",
        "\n",
        "    # Use regex pattern to find a potential email address\n",
        "    pattern = r\"\\b[A-Za-z0-9._%+-]+@[A-Za-z0-9.-]+\\.[A-Za-z]{2,}\\b\"\n",
        "    match = re.search(pattern, text)\n",
        "    if match:\n",
        "        email = match.group()\n",
        "\n",
        "    return email\n",
        "\n",
        "if __name__ == '__main__':\n",
        "    text = extract_text_from_pdf(r\"/Gaurav-Bhand-Resume-.pdf\")\n",
        "    email = extract_email_from_resume(text)\n",
        "\n",
        "    if email:\n",
        "        print(\"Email:\", email)\n",
        "    else:\n",
        "        print(\"Email not found\")\n"
      ]
    },
    {
      "cell_type": "markdown",
      "id": "3540ffd7",
      "metadata": {
        "id": "3540ffd7"
      },
      "source": [
        "# Extracting Skills:\n",
        "\n",
        "The provided code snippet includes a function extract_text_from_pdf() that extracts text from a PDF file using pdfminer. Additionally, it defines a function extract_skills_from_resume() that takes the extracted text and a list of predefined skills as input.\n",
        "\n",
        "The extract_skills_from_resume() function searches for each skill in the provided list within the resume text using regular expressions. If a skill is found, it is added to the skills list. Finally, the function returns the list of extracted skills.\n",
        "\n",
        "In the code's main section, the extract_text_from_pdf() function is called to extract the text from a specific resume file. A predefined list of skills is defined, and the extract_skills_from_resume() function is invoked with the extracted text and skills list as arguments. The extracted skills are then printed as \"Skills: [extracted skills]\" if any skills are found, otherwise, a \"No skills found\" message is displayed.\n",
        "\n",
        "This code can be utilized to extract skills from resumes by providing a list of predefined skills and the resume text. It serves as a basic framework for skill extraction and can be extended or customized to meet specific requirements."
      ]
    },
    {
      "cell_type": "code",
      "execution_count": null,
      "id": "90a413b9",
      "metadata": {
        "id": "90a413b9",
        "outputId": "b5533f38-acb6-464a-90ac-7acc2fd10db0"
      },
      "outputs": [
        {
          "name": "stdout",
          "output_type": "stream",
          "text": [
            "Skills: ['Python', 'Data Analysis', 'Machine Learning', 'Communication', 'Deep Learning', 'SQL', 'Tableau']\n"
          ]
        }
      ],
      "source": [
        "def extract_text_from_pdf(pdf_path):\n",
        "    return extract_text(pdf_path)\n",
        "\n",
        "def extract_skills_from_resume(text, skills_list):\n",
        "    skills = []\n",
        "\n",
        "    # Search for skills in the resume text\n",
        "    for skill in skills_list:\n",
        "        pattern = r\"\\b{}\\b\".format(re.escape(skill))\n",
        "        match = re.search(pattern, text, re.IGNORECASE)\n",
        "        if match:\n",
        "            skills.append(skill)\n",
        "\n",
        "    return skills\n",
        "\n",
        "if __name__ == '__main__':\n",
        "    text = extract_text_from_pdf(r\"C:\\Users\\SANKET\\Downloads\\Untitled-resume.pdf\")\n",
        "\n",
        "    # List of predefined skills\n",
        "    skills_list = ['Python', 'Data Analysis', 'Machine Learning', 'Communication', 'Project Management', 'Deep Learning', 'SQL', 'Tableau']\n",
        "\n",
        "    extracted_skills = extract_skills_from_resume(text, skills_list)\n",
        "\n",
        "    if extracted_skills:\n",
        "        print(\"Skills:\", extracted_skills)\n",
        "    else:\n",
        "        print(\"No skills found\")\n"
      ]
    },
    {
      "cell_type": "markdown",
      "id": "44df8258",
      "metadata": {
        "id": "44df8258"
      },
      "source": [
        "# Extracting Education:\n",
        "\n",
        "The provided code snippet consists of a function extract_text_from_pdf() that extracts text from a PDF file using the pdfminer library. Additionally, it includes a function extract_education_from_resume() that takes the extracted text as input.\n",
        "\n",
        "The extract_education_from_resume() function utilizes a regular expression pattern to search for education information in the resume text. The pattern is designed to match various education degrees such as BSc, B.Tech, M.Tech, Ph.D., Bachelor's, Master's, and Ph.D., followed by the corresponding field of study.\n",
        "\n",
        "Within the code's main section, the extract_text_from_pdf() function is invoked to extract the text from a specific resume file. Then, the extract_education_from_resume() function is called with the extracted text as an argument. If any education information is found, it is appended to the education list. Finally, the list of extracted education details is printed as \"Education: [extracted_education]\" if education information is found. Otherwise, a \"No education information found\" message is displayed.\n",
        "\n",
        "This code provides a basic framework for extracting education information from resumes using regular expressions. It can be further customized or expanded to handle additional patterns or extract more specific details related to education."
      ]
    },
    {
      "cell_type": "code",
      "execution_count": 9,
      "id": "72ff2cc1",
      "metadata": {
        "id": "72ff2cc1",
        "outputId": "96d262be-45b5-4aa9-be53-4d7f2dde83e2",
        "colab": {
          "base_uri": "https://localhost:8080/"
        }
      },
      "outputs": [
        {
          "output_type": "stream",
          "name": "stdout",
          "text": [
            "Education: ['Bachelor of Computer Application\\nDevi Ahilya University']\n"
          ]
        }
      ],
      "source": [
        "def extract_text_from_pdf(pdf_path):\n",
        "    return extract_text(pdf_path)\n",
        "\n",
        "def extract_education_from_resume(text):\n",
        "    education = []\n",
        "\n",
        "    # Use regex pattern to find education information\n",
        "    pattern = r\"(?i)(?:(?:Bachelor|B\\.S\\.|B\\.A\\.|Master|M\\.S\\.|M\\.A\\.|Ph\\.D\\.)\\s(?:[A-Za-z]+\\s)*[A-Za-z]+)\"\n",
        "    matches = re.findall(pattern, text)\n",
        "    for match in matches:\n",
        "        education.append(match.strip())\n",
        "\n",
        "    return education\n",
        "\n",
        "if __name__ == '__main__':\n",
        "    text = extract_text_from_pdf(r\"/Gaurav-Bhand-Resume-.pdf\")\n",
        "\n",
        "    extracted_education = extract_education_from_resume(text)\n",
        "    if extracted_education:\n",
        "        print(\"Education:\", extracted_education)\n",
        "    else:\n",
        "        print(\"No education information found\")\n"
      ]
    },
    {
      "cell_type": "code",
      "execution_count": 10,
      "id": "3a80890c",
      "metadata": {
        "id": "3a80890c",
        "outputId": "9ec3ee5e-ff42-41d2-aebd-c6501d0560db",
        "colab": {
          "base_uri": "https://localhost:8080/"
        }
      },
      "outputs": [
        {
          "output_type": "stream",
          "name": "stdout",
          "text": [
            "Education: ['Bachelor of Computer Application\\nDevi Ahilya University']\n"
          ]
        }
      ],
      "source": [
        "def extract_text_from_pdf(pdf_path):\n",
        "    return extract_text(pdf_path)\n",
        "\n",
        "def extract_education_from_resume(text):\n",
        "    education = []\n",
        "\n",
        "    # Use regex pattern to find education information\n",
        "    pattern = r\"(?i)(?:Bsc|\\bB\\.\\w+|\\bM\\.\\w+|\\bPh\\.D\\.\\w+|\\bBachelor(?:'s)?|\\bMaster(?:'s)?|\\bPh\\.D)\\s(?:\\w+\\s)*\\w+\"\n",
        "    matches = re.findall(pattern, text)\n",
        "    for match in matches:\n",
        "        education.append(match.strip())\n",
        "\n",
        "    return education\n",
        "\n",
        "if __name__ == '__main__':\n",
        "    text = extract_text_from_pdf(r\"/Gaurav-Bhand-Resume-.pdf\")\n",
        "\n",
        "    extracted_education = extract_education_from_resume(text)\n",
        "    if extracted_education:\n",
        "        print(\"Education:\", extracted_education)\n",
        "    else:\n",
        "        print(\"No education information found\")\n"
      ]
    },
    {
      "cell_type": "code",
      "execution_count": 13,
      "id": "fd98bce9",
      "metadata": {
        "id": "fd98bce9",
        "outputId": "8017d4b6-62d2-4aa5-ee6d-07785cf6c944",
        "colab": {
          "base_uri": "https://localhost:8080/"
        }
      },
      "outputs": [
        {
          "output_type": "stream",
          "name": "stdout",
          "text": [
            "No data science education found\n"
          ]
        }
      ],
      "source": [
        "import spacy\n",
        "\n",
        "nlp = spacy.load('en_core_web_sm')\n",
        "\n",
        "def extract_data_science_education(text):\n",
        "    doc = nlp(text)\n",
        "\n",
        "    education = []\n",
        "\n",
        "    for ent in doc.ents:\n",
        "        if ent.label_ == 'ORG' and 'Data Science' in ent.text:\n",
        "            education.append(ent.text)\n",
        "\n",
        "    return education\n",
        "\n",
        "if __name__ == '__main__':\n",
        "    text = extract_text_from_pdf(r\"/Gaurav-Bhand-Resume-.pdf\")\n",
        "\n",
        "    extracted_education = extract_data_science_education(text)\n",
        "    if extracted_education:\n",
        "        print(\"Data Science Education:\", extracted_education)\n",
        "    else:\n",
        "        print(\"No data science education found\")\n"
      ]
    },
    {
      "cell_type": "code",
      "execution_count": 14,
      "id": "dedc044f",
      "metadata": {
        "id": "dedc044f",
        "outputId": "00ec97b8-5231-4d5a-d729-2ea01b678909",
        "colab": {
          "base_uri": "https://localhost:8080/"
        }
      },
      "outputs": [
        {
          "output_type": "stream",
          "name": "stdout",
          "text": [
            "College name not found.\n"
          ]
        }
      ],
      "source": [
        "\n",
        "def extract_college_name(text):\n",
        "    lines = text.split('\\n')\n",
        "    college_pattern = r\"(?i).*college.*\"\n",
        "    for line in lines:\n",
        "        if re.match(college_pattern, line):\n",
        "            return line.strip()\n",
        "    return None\n",
        "\n",
        "# Example usage:\n",
        "    text = extract_text_from_pdf(r\"/Gaurav-Bhand-Resume-.pdf\")\n",
        "\n",
        "\n",
        "college_name = extract_college_name(text)\n",
        "if college_name:\n",
        "    print(\"College:\", college_name)\n",
        "else:\n",
        "    print(\"College name not found.\")\n"
      ]
    },
    {
      "cell_type": "markdown",
      "id": "eb81c782",
      "metadata": {
        "id": "eb81c782"
      },
      "source": [
        "# Conclusion:\n",
        "\n",
        "In conclusion, the provided code snippets demonstrate a basic implementation of a resume parser. Each code snippet focuses on extracting specific information from a resume, such as name, contact number, email, skills, and education.\n",
        "\n",
        "The resume parser utilizes various techniques, including regular expressions and text extraction from PDF files. It showcases how these techniques can be applied to automate the extraction of important details from resumes.\n",
        "\n",
        "However, it's important to note that the code snippets provide a starting point and can be further enhanced and customized based on specific requirements. For example, additional patterns or algorithms can be implemented to improve the accuracy of information extraction.\n",
        "\n",
        "Resume parsing plays a vital role in automating the initial screening process for job applications. By extracting key details from resumes, it saves time and effort for recruiters and allows for efficient filtering of candidates.\n",
        "\n",
        "As technology advances, resume parsing algorithms can be further refined to handle more complex resume formats, languages, and diverse information extraction requirements. This will help in building more sophisticated and accurate resume parsing systems.\n",
        "\n",
        "Overall, the provided code snippets serve as a foundation for developing a resume parser and demonstrate the potential of automating the extraction of essential information from resumes, streamlining the recruitment process, and improving efficiency in candidate evaluation."
      ]
    },
    {
      "cell_type": "code",
      "execution_count": null,
      "id": "085324be",
      "metadata": {
        "id": "085324be"
      },
      "outputs": [],
      "source": []
    }
  ],
  "metadata": {
    "kernelspec": {
      "display_name": "Python 3 (ipykernel)",
      "language": "python",
      "name": "python3"
    },
    "language_info": {
      "codemirror_mode": {
        "name": "ipython",
        "version": 3
      },
      "file_extension": ".py",
      "mimetype": "text/x-python",
      "name": "python",
      "nbconvert_exporter": "python",
      "pygments_lexer": "ipython3",
      "version": "3.10.7"
    },
    "colab": {
      "provenance": [],
      "include_colab_link": true
    }
  },
  "nbformat": 4,
  "nbformat_minor": 5
}